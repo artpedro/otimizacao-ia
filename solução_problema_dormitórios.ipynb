{
  "nbformat": 4,
  "nbformat_minor": 0,
  "metadata": {
    "colab": {
      "provenance": []
    },
    "kernelspec": {
      "name": "python3",
      "display_name": "Python 3"
    },
    "language_info": {
      "name": "python"
    }
  },
  "cells": [
    {
      "cell_type": "code",
      "source": [
        "import time\n",
        "import random"
      ],
      "metadata": {
        "id": "pxi3OvtKiUK1"
      },
      "execution_count": 3,
      "outputs": []
    },
    {
      "cell_type": "code",
      "execution_count": 5,
      "metadata": {
        "id": "hPbyq5i7X-BW"
      },
      "outputs": [],
      "source": [
        "dormitorios = ['Mercurio','Venus','Terra','Marte','Jupiter']\n",
        "\n",
        "preferencias = [('Thais',('Mercurio','Marte')),\n",
        "          ('Bruno',('Mercurio','Venus')),\n",
        "          ('Amanda',('Mercurio','Marte')),\n",
        "          ('Carlos',('Venus','Marte')),\n",
        "          ('Francisco',('Venus','Jupiter')),\n",
        "          ('Wellington',('Venus','Terra')),\n",
        "          ('Gabriela',('Terra','Marte')),\n",
        "          ('Thayane',('Terra','Jupiter')),\n",
        "          ('Romenia',('Terra','Jupiter')),\n",
        "          ('Larissa',('Terra','Jupiter'))]\n",
        "\n"
      ]
    },
    {
      "cell_type": "code",
      "source": [
        "def imprimir_solucao(solucao):\n",
        "  # variável para armazenar as vagas\n",
        "  vagas = []\n",
        "\n",
        "  # varrendo todos os dormitórios\n",
        "  for i in range(len(dormitorios)):\n",
        "    # gerando uma lista representando cada dormitório pelo seu index\n",
        "    # temos 2 vagas por dormitório\n",
        "    vagas += [i,i]\n",
        "  # varrendo a solucao dada\n",
        "  for i in range(len(solucao)):\n",
        "    # armazenando a posiçao nas vagas que está o atual aluno\n",
        "    atual = solucao[i]\n",
        "    # armazenando qual dormitório corresponde a essa vaga\n",
        "    dormitorio = dormitorios[vagas[atual]]\n",
        "    # mostrando qual o aluno e o dormitório em que ele está alojado pela solucao\n",
        "    print(preferencias[i][0],dormitorio)\n",
        "    # eliminando a vaga prenchida\n",
        "    del vagas[atual]\n",
        "\n",
        "solucao = [6,1,2,1,1,0,2,2,0,0]\n",
        "imprimir_solucao(solucao)"
      ],
      "metadata": {
        "colab": {
          "base_uri": "https://localhost:8080/"
        },
        "id": "aQaVYyA3cqgz",
        "outputId": "9aa065b4-e687-49ad-aeb4-707bf3b4205e"
      },
      "execution_count": 6,
      "outputs": [
        {
          "output_type": "stream",
          "name": "stdout",
          "text": [
            "Thais Marte\n",
            "Bruno Mercurio\n",
            "Amanda Venus\n",
            "Carlos Venus\n",
            "Francisco Terra\n",
            "Wellington Mercurio\n",
            "Gabriela Jupiter\n",
            "Thayane Jupiter\n",
            "Romenia Terra\n",
            "Larissa Marte\n"
          ]
        }
      ]
    },
    {
      "cell_type": "code",
      "source": [
        "def funcao_custo(solucao):\n",
        "  custo = 0\n",
        "  vagas = [0,0,1,1,2,2,3,3,4,4]\n",
        "  for i in range(len(solucao)):\n",
        "    atual = solucao[i]\n",
        "    dormitorio = dormitorios[vagas[atual]]\n",
        "    preferencia = preferencias[i][1]\n",
        "    if preferencia[0] == dormitorio:\n",
        "      custo += 0\n",
        "    elif preferencia[1] == dormitorio:\n",
        "      custo += 1\n",
        "    else:\n",
        "      custo += 3\n",
        "\n",
        "    del vagas[atual]\n",
        "  return custo\n",
        "\n",
        "funcao_custo([6,1,2,1,1,0,2,2,0,0])\n"
      ],
      "metadata": {
        "colab": {
          "base_uri": "https://localhost:8080/"
        },
        "id": "f3aw4Cd3gz9R",
        "outputId": "d9e9c4eb-aaff-4fb1-e053-6ca7ec059e64"
      },
      "execution_count": 11,
      "outputs": [
        {
          "output_type": "execute_result",
          "data": {
            "text/plain": [
              "17"
            ]
          },
          "metadata": {},
          "execution_count": 11
        }
      ]
    },
    {
      "cell_type": "code",
      "source": [
        "def pesquisa_randomica(dominio,funcao_custo):\n",
        "    melhor_custo = 9999999\n",
        "    for i in range(0,1000000):\n",
        "        solucao = [random.randint(dominio[i][0],dominio[i][1]) for i in range(len(dominio))]\n",
        "        custo = funcao_custo(solucao)\n",
        "        if custo < melhor_custo:\n",
        "            melhor_custo = custo\n",
        "            melhor_solucao  = solucao\n",
        "    return melhor_solucao,melhor_custo\n",
        "\n",
        "dominio = [(0,i) for i in range(9,0,-1)]\n",
        "print(dominio)\n",
        "solucao,custo = pesquisa_randomica(dominio,funcao_custo)\n",
        "imprimir_solucao(solucao)\n",
        "print(custo)"
      ],
      "metadata": {
        "colab": {
          "base_uri": "https://localhost:8080/"
        },
        "id": "Bx2s4rmwh8WC",
        "outputId": "eb60af35-3ab9-4d65-89e8-3a07ece74c10"
      },
      "execution_count": 15,
      "outputs": [
        {
          "output_type": "stream",
          "name": "stdout",
          "text": [
            "[(0, 9), (0, 8), (0, 7), (0, 6), (0, 5), (0, 4), (0, 3), (0, 2), (0, 1)]\n",
            "Thais Marte\n",
            "Bruno Mercurio\n",
            "Amanda Mercurio\n",
            "Carlos Marte\n",
            "Francisco Venus\n",
            "Wellington Venus\n",
            "Gabriela Terra\n",
            "Thayane Terra\n",
            "Romenia Jupiter\n",
            "3\n"
          ]
        }
      ]
    }
  ]
}